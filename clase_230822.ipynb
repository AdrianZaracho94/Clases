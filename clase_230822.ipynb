{
 "cells": [
  {
   "cell_type": "markdown",
   "metadata": {},
   "source": [
    "Clase 240822 - Tuplas"
   ]
  },
  {
   "cell_type": "code",
   "execution_count": 1,
   "metadata": {},
   "outputs": [
    {
     "name": "stdout",
     "output_type": "stream",
     "text": [
      "hola \n"
     ]
    }
   ],
   "source": [
    "nombre = input(\"ingresa tu nombre: \")\n",
    "print(f'hola {nombre}') # la f permite poner la variable entre llaves dentro de la cadena de txt\n"
   ]
  },
  {
   "cell_type": "code",
   "execution_count": 2,
   "metadata": {},
   "outputs": [
    {
     "name": "stdout",
     "output_type": "stream",
     "text": [
      "hola \n"
     ]
    }
   ],
   "source": [
    "# tambien se puede hacer \n",
    "\n",
    "print('hola',nombre)"
   ]
  },
  {
   "cell_type": "code",
   "execution_count": 4,
   "metadata": {},
   "outputs": [
    {
     "name": "stdout",
     "output_type": "stream",
     "text": [
      "['hola mundo']\n"
     ]
    }
   ],
   "source": [
    "# Almancenar la cadena \"¡hola mundo!\"\n",
    "\n",
    "df = ['hola mundo']\n",
    "\n",
    "print(df)"
   ]
  },
  {
   "cell_type": "code",
   "execution_count": 5,
   "metadata": {},
   "outputs": [
    {
     "name": "stdout",
     "output_type": "stream",
     "text": [
      "('madera', 'piedra', 'bruja', 'pato', 0.2)\n"
     ]
    }
   ],
   "source": [
    "# las tuplas van entre () y no se pueden cambiar\n",
    "\n",
    "tupla = ('madera',\"piedra\", 'bruja',\"pato\",0.2,)\n",
    "\n",
    "print(tupla)"
   ]
  },
  {
   "cell_type": "code",
   "execution_count": 8,
   "metadata": {},
   "outputs": [
    {
     "name": "stdout",
     "output_type": "stream",
     "text": [
      "('madera', 'piedra')\n"
     ]
    }
   ],
   "source": [
    "print(tupla[0:2])\n",
    "print(tupla)"
   ]
  },
  {
   "cell_type": "markdown",
   "metadata": {},
   "source": [
    "Diccionarios en python\n",
    "\n",
    "Datos simples y compuestos"
   ]
  },
  {
   "cell_type": "markdown",
   "metadata": {},
   "source": [
    "Datos inmutables y mutables\n",
    "\n",
    "las secuencias de datos pueden ser inmutables o pueden ser mutables. "
   ]
  },
  {
   "cell_type": "code",
   "execution_count": 10,
   "metadata": {},
   "outputs": [
    {
     "data": {
      "text/plain": [
       "'c'"
      ]
     },
     "execution_count": 10,
     "metadata": {},
     "output_type": "execute_result"
    }
   ],
   "source": [
    "cadena = \"candidato\"\n",
    "cadena[0]"
   ]
  },
  {
   "cell_type": "markdown",
   "metadata": {},
   "source": [
    "las secuencias de datos mutables son aquellas secuencias en las que los valores individuales pueden moficicarse luego de ser asignados, como por ejemplos las listas. "
   ]
  },
  {
   "cell_type": "code",
   "execution_count": 11,
   "metadata": {},
   "outputs": [
    {
     "name": "stdout",
     "output_type": "stream",
     "text": [
      "['ministro', 'senador', 'diputado', 'consejal']\n"
     ]
    }
   ],
   "source": [
    "lista = ['presidente','senador','diputado', 'consejal']\n",
    "lista [0] = 'ministro'\n",
    "print (lista)"
   ]
  },
  {
   "cell_type": "markdown",
   "metadata": {},
   "source": [
    "Diccionarios en python\n",
    "\n",
    "lista no ordenada de terminos (clave-valor), lo que denominamos pares. para cada uno de los terminos incluidos en el diccionario se pueden definir distintos valores asociados. \n",
    "\n",
    "al igual que las listas, los diccionarios son mutables, es decir que podemos agregar, quitar o modificar los elementos del diccionario en tiempo ejecucion. los diccionarios pueden estar contenidos en listas o viceversa. \n",
    "\n",
    "la principal diferencia con las listas es que accedemos a los elelementos de los diccionados por medio de una matriz asiociativa(tambien conocida como hash). cualquier clave del diccionario esta asociada a un valor. los valores de un diccionario pueden ser cualquier tupo de dato de python\n",
    "\n",
    "las claves son unicas dentro de un diccionario. \n",
    "\n",
    "\n",
    "basicamente es un codificador de variables."
   ]
  },
  {
   "cell_type": "code",
   "execution_count": 1,
   "metadata": {},
   "outputs": [
    {
     "data": {
      "text/plain": [
       "{'uno': 1, 'dos': 2}"
      ]
     },
     "execution_count": 1,
     "metadata": {},
     "output_type": "execute_result"
    }
   ],
   "source": [
    "diccionario_error = {'uno':'1', 'dos':2, 'uno':1} # vease que el ultimo registro codifica a \"uno\" con 1 (int)\n",
    "                                                  # Es decir, que el output va a estar vinculando 'uno':1 y no 'uno :'1' \n",
    "\n",
    "diccionario_error"
   ]
  },
  {
   "cell_type": "code",
   "execution_count": 14,
   "metadata": {},
   "outputs": [
    {
     "name": "stdout",
     "output_type": "stream",
     "text": [
      "1\n"
     ]
    }
   ],
   "source": [
    "print(diccionario_error['uno'])"
   ]
  },
  {
   "cell_type": "markdown",
   "metadata": {},
   "source": [
    "funcion zip"
   ]
  },
  {
   "cell_type": "code",
   "execution_count": 15,
   "metadata": {},
   "outputs": [
    {
     "name": "stdout",
     "output_type": "stream",
     "text": [
      "{'candidatoa': 200, 'candidatob': 150, 'candidatoc': 100, 'candidatod': 50}\n"
     ]
    }
   ],
   "source": [
    "# permite empaquetar y unir clave-valor\n",
    "\n",
    "keys = ['candidatoa','candidatob','candidatoc','candidatod']\n",
    "values = [200, 150, 100, 50]\n",
    "votos= dict (zip(keys, values))\n",
    "print(votos)"
   ]
  },
  {
   "cell_type": "markdown",
   "metadata": {},
   "source": [
    "con la funcion nativa get te trae el dato del elemento que estas seleccionando "
   ]
  },
  {
   "cell_type": "code",
   "execution_count": 16,
   "metadata": {},
   "outputs": [
    {
     "name": "stdout",
     "output_type": "stream",
     "text": [
      "200\n"
     ]
    }
   ],
   "source": [
    "print(votos.get('candidatoa'))"
   ]
  },
  {
   "cell_type": "markdown",
   "metadata": {},
   "source": [
    "con la funcion nativa keys, traes los nombres elementos del diccionario "
   ]
  },
  {
   "cell_type": "code",
   "execution_count": 17,
   "metadata": {},
   "outputs": [
    {
     "name": "stdout",
     "output_type": "stream",
     "text": [
      "dict_keys(['candidatoa', 'candidatob', 'candidatoc', 'candidatod'])\n"
     ]
    }
   ],
   "source": [
    "print(votos.keys())"
   ]
  },
  {
   "cell_type": "code",
   "execution_count": 18,
   "metadata": {},
   "outputs": [
    {
     "name": "stdout",
     "output_type": "stream",
     "text": [
      "dict_values([200, 150, 100, 50])\n"
     ]
    }
   ],
   "source": [
    "print(votos.values())"
   ]
  },
  {
   "cell_type": "code",
   "execution_count": 19,
   "metadata": {},
   "outputs": [
    {
     "name": "stdout",
     "output_type": "stream",
     "text": [
      "dict_items([('candidatoa', 200), ('candidatob', 150), ('candidatoc', 100), ('candidatod', 50)])\n"
     ]
    }
   ],
   "source": [
    "# metodo items\n",
    "\n",
    "print(votos.items())"
   ]
  },
  {
   "cell_type": "markdown",
   "metadata": {},
   "source": [
    "salvando el error"
   ]
  },
  {
   "cell_type": "code",
   "execution_count": 20,
   "metadata": {},
   "outputs": [
    {
     "name": "stdout",
     "output_type": "stream",
     "text": [
      "El candidato no existe\n"
     ]
    }
   ],
   "source": [
    "if \"candidatoz\" in votos:\n",
    "    print(\"candidato z encontrado\")\n",
    "else:\n",
    "    print(\"El candidato no existe\")"
   ]
  },
  {
   "cell_type": "code",
   "execution_count": 21,
   "metadata": {},
   "outputs": [
    {
     "name": "stdout",
     "output_type": "stream",
     "text": [
      "No existe ese candidato\n"
     ]
    }
   ],
   "source": [
    "# otra opcion \n",
    "\n",
    "print(votos.get(\"candidatoz\",\"No existe ese candidato\"))"
   ]
  },
  {
   "cell_type": "code",
   "execution_count": 24,
   "metadata": {},
   "outputs": [
    {
     "name": "stdout",
     "output_type": "stream",
     "text": [
      "200\n"
     ]
    }
   ],
   "source": [
    "print(votos.get(\"candidatoa\",\"El candidato no existe\"))"
   ]
  },
  {
   "cell_type": "markdown",
   "metadata": {},
   "source": [
    "modificar datos en el diccionario"
   ]
  },
  {
   "cell_type": "code",
   "execution_count": 25,
   "metadata": {},
   "outputs": [
    {
     "name": "stdout",
     "output_type": "stream",
     "text": [
      "{'candidatoa': 200, 'candidatob': 150, 'candidatoc': 100, 'candidatod': 50}\n"
     ]
    }
   ],
   "source": [
    "print(votos)"
   ]
  },
  {
   "cell_type": "code",
   "execution_count": 30,
   "metadata": {},
   "outputs": [
    {
     "name": "stdout",
     "output_type": "stream",
     "text": [
      "dict_items([('candidatob', 20), ('candidatod', 50)])\n"
     ]
    }
   ],
   "source": [
    "# modificamos los \n",
    "votos['candidatob'] = 20\n",
    "print(votos.items())\n"
   ]
  },
  {
   "cell_type": "code",
   "execution_count": 26,
   "metadata": {},
   "outputs": [
    {
     "name": "stdout",
     "output_type": "stream",
     "text": [
      "dict_items([('candidatoa', 200), ('candidatob', 150), ('candidatod', 50)])\n"
     ]
    }
   ],
   "source": [
    "# funcion del\n",
    "# es una funcion que dado el parametro va borrar\n",
    "\n",
    "del votos ['candidatoc']\n",
    "print(votos.items())"
   ]
  },
  {
   "cell_type": "code",
   "execution_count": 28,
   "metadata": {},
   "outputs": [
    {
     "name": "stdout",
     "output_type": "stream",
     "text": [
      "200\n"
     ]
    }
   ],
   "source": [
    "# metodo pop\n",
    "\n",
    "print(votos.pop('candidatoa'))"
   ]
  },
  {
   "cell_type": "markdown",
   "metadata": {},
   "source": [
    "diccionarios aninados "
   ]
  },
  {
   "cell_type": "code",
   "execution_count": 32,
   "metadata": {},
   "outputs": [],
   "source": [
    "# podemos almacenar dentro de un diccionario dentro de otro. \n",
    "\n",
    "candidatos = {\n",
    "    \"candidatoa\" : {\n",
    "        \"nombre\" : \"tony\",\n",
    "        \"apellido\" : \"blair\",\n",
    "        \"anio\": 1980\n",
    "    },\n",
    "    \"candiatob\": {\n",
    "        \"nombre\": \"jorge\",\n",
    "        \"apellido\": \"rodriguez\",\n",
    "        \"anio\":1960\n",
    "    },\n",
    "\"candidatoc\" : {\n",
    "    \"nombre\":\"melina\",\n",
    "    \"apellido\": \"sarate\",\n",
    "    \"anio\": 1990\n",
    "}}\n"
   ]
  },
  {
   "cell_type": "code",
   "execution_count": 38,
   "metadata": {},
   "outputs": [
    {
     "name": "stdout",
     "output_type": "stream",
     "text": [
      "tony\n"
     ]
    }
   ],
   "source": [
    "print(candidatos['candidatoa']['nombre'])\n",
    "\n",
    "#print(candidatos) (metodos, tuplas) {metodos y listas} [diccionarios]\n",
    "\n"
   ]
  }
 ],
 "metadata": {
  "kernelspec": {
   "display_name": "Python 3.10.6 64-bit",
   "language": "python",
   "name": "python3"
  },
  "language_info": {
   "codemirror_mode": {
    "name": "ipython",
    "version": 3
   },
   "file_extension": ".py",
   "mimetype": "text/x-python",
   "name": "python",
   "nbconvert_exporter": "python",
   "pygments_lexer": "ipython3",
   "version": "3.10.6"
  },
  "orig_nbformat": 4,
  "vscode": {
   "interpreter": {
    "hash": "ba2f7f682884b375beb099594635249ef0388cd2b0da8736d97353e92c1cb640"
   }
  }
 },
 "nbformat": 4,
 "nbformat_minor": 2
}
